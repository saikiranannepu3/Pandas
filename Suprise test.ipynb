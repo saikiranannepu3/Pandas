{
 "cells": [
  {
   "cell_type": "code",
   "execution_count": 1,
   "id": "f745fc9d",
   "metadata": {},
   "outputs": [],
   "source": [
    "import numpy as np\n",
    "import matplotlib.pyplot as plt\n",
    "import pandas as pd\n",
    "import seaborn as sns"
   ]
  },
  {
   "cell_type": "code",
   "execution_count": 2,
   "id": "2746bf68",
   "metadata": {},
   "outputs": [],
   "source": [
    "datas = pd.read_csv(r\"C:\\Users\\user\\Downloads\\Clean_Data_pakwheels.csv\")"
   ]
  },
  {
   "cell_type": "code",
   "execution_count": 3,
   "id": "11f2de79",
   "metadata": {},
   "outputs": [
    {
     "data": {
      "text/html": [
       "<div>\n",
       "<style scoped>\n",
       "    .dataframe tbody tr th:only-of-type {\n",
       "        vertical-align: middle;\n",
       "    }\n",
       "\n",
       "    .dataframe tbody tr th {\n",
       "        vertical-align: top;\n",
       "    }\n",
       "\n",
       "    .dataframe thead th {\n",
       "        text-align: right;\n",
       "    }\n",
       "</style>\n",
       "<table border=\"1\" class=\"dataframe\">\n",
       "  <thead>\n",
       "    <tr style=\"text-align: right;\">\n",
       "      <th></th>\n",
       "      <th>Unnamed: 0</th>\n",
       "      <th>Company Name</th>\n",
       "      <th>Model Name</th>\n",
       "      <th>Price</th>\n",
       "      <th>Model Year</th>\n",
       "      <th>Location</th>\n",
       "      <th>Mileage</th>\n",
       "      <th>Engine Type</th>\n",
       "      <th>Engine Capacity</th>\n",
       "      <th>Color</th>\n",
       "      <th>Assembly</th>\n",
       "      <th>Body Type</th>\n",
       "      <th>Transmission Type</th>\n",
       "      <th>Registration Status</th>\n",
       "    </tr>\n",
       "  </thead>\n",
       "  <tbody>\n",
       "    <tr>\n",
       "      <th>0</th>\n",
       "      <td>0</td>\n",
       "      <td>Toyota</td>\n",
       "      <td>Vitz</td>\n",
       "      <td>2385000</td>\n",
       "      <td>2017</td>\n",
       "      <td>Islamabad</td>\n",
       "      <td>9869</td>\n",
       "      <td>Petrol</td>\n",
       "      <td>1000</td>\n",
       "      <td>Silver</td>\n",
       "      <td>Imported</td>\n",
       "      <td>Hatchback</td>\n",
       "      <td>Automatic</td>\n",
       "      <td>Un-Registered</td>\n",
       "    </tr>\n",
       "    <tr>\n",
       "      <th>1</th>\n",
       "      <td>1</td>\n",
       "      <td>Toyota</td>\n",
       "      <td>Corolla</td>\n",
       "      <td>111000</td>\n",
       "      <td>2019</td>\n",
       "      <td>KPK</td>\n",
       "      <td>11111</td>\n",
       "      <td>Petrol</td>\n",
       "      <td>1300</td>\n",
       "      <td>White</td>\n",
       "      <td>Local</td>\n",
       "      <td>Sedan</td>\n",
       "      <td>Automatic</td>\n",
       "      <td>Registered</td>\n",
       "    </tr>\n",
       "    <tr>\n",
       "      <th>2</th>\n",
       "      <td>2</td>\n",
       "      <td>Suzuki</td>\n",
       "      <td>Alto</td>\n",
       "      <td>1530000</td>\n",
       "      <td>2019</td>\n",
       "      <td>KPK</td>\n",
       "      <td>17500</td>\n",
       "      <td>Petrol</td>\n",
       "      <td>660</td>\n",
       "      <td>White</td>\n",
       "      <td>Local</td>\n",
       "      <td>Hatchback</td>\n",
       "      <td>Automatic</td>\n",
       "      <td>Un-Registered</td>\n",
       "    </tr>\n",
       "    <tr>\n",
       "      <th>3</th>\n",
       "      <td>3</td>\n",
       "      <td>Suzuki</td>\n",
       "      <td>Alto</td>\n",
       "      <td>1650000</td>\n",
       "      <td>2019</td>\n",
       "      <td>Punjab</td>\n",
       "      <td>9600</td>\n",
       "      <td>Petrol</td>\n",
       "      <td>660</td>\n",
       "      <td>White</td>\n",
       "      <td>Local</td>\n",
       "      <td>Hatchback</td>\n",
       "      <td>Manual</td>\n",
       "      <td>Registered</td>\n",
       "    </tr>\n",
       "    <tr>\n",
       "      <th>4</th>\n",
       "      <td>4</td>\n",
       "      <td>Toyota</td>\n",
       "      <td>Corolla</td>\n",
       "      <td>1435000</td>\n",
       "      <td>2010</td>\n",
       "      <td>Islamabad</td>\n",
       "      <td>120000</td>\n",
       "      <td>Petrol</td>\n",
       "      <td>1300</td>\n",
       "      <td>Black</td>\n",
       "      <td>Local</td>\n",
       "      <td>Sedan</td>\n",
       "      <td>Manual</td>\n",
       "      <td>Registered</td>\n",
       "    </tr>\n",
       "    <tr>\n",
       "      <th>...</th>\n",
       "      <td>...</td>\n",
       "      <td>...</td>\n",
       "      <td>...</td>\n",
       "      <td>...</td>\n",
       "      <td>...</td>\n",
       "      <td>...</td>\n",
       "      <td>...</td>\n",
       "      <td>...</td>\n",
       "      <td>...</td>\n",
       "      <td>...</td>\n",
       "      <td>...</td>\n",
       "      <td>...</td>\n",
       "      <td>...</td>\n",
       "      <td>...</td>\n",
       "    </tr>\n",
       "    <tr>\n",
       "      <th>46017</th>\n",
       "      <td>46018</td>\n",
       "      <td>Honda</td>\n",
       "      <td>Vezel</td>\n",
       "      <td>3400000</td>\n",
       "      <td>2015</td>\n",
       "      <td>Punjab</td>\n",
       "      <td>32000</td>\n",
       "      <td>Petrol</td>\n",
       "      <td>1500</td>\n",
       "      <td>Black</td>\n",
       "      <td>Imported</td>\n",
       "      <td>Cross Over</td>\n",
       "      <td>Automatic</td>\n",
       "      <td>Un-Registered</td>\n",
       "    </tr>\n",
       "    <tr>\n",
       "      <th>46018</th>\n",
       "      <td>46019</td>\n",
       "      <td>Toyota</td>\n",
       "      <td>Aqua</td>\n",
       "      <td>2450000</td>\n",
       "      <td>2015</td>\n",
       "      <td>Punjab</td>\n",
       "      <td>52000</td>\n",
       "      <td>Petrol</td>\n",
       "      <td>1500</td>\n",
       "      <td>Blue</td>\n",
       "      <td>Imported</td>\n",
       "      <td>Hatchback</td>\n",
       "      <td>Automatic</td>\n",
       "      <td>Un-Registered</td>\n",
       "    </tr>\n",
       "    <tr>\n",
       "      <th>46019</th>\n",
       "      <td>46020</td>\n",
       "      <td>Honda</td>\n",
       "      <td>Civic</td>\n",
       "      <td>3250000</td>\n",
       "      <td>2015</td>\n",
       "      <td>Punjab</td>\n",
       "      <td>125000</td>\n",
       "      <td>Petrol</td>\n",
       "      <td>1800</td>\n",
       "      <td>Black</td>\n",
       "      <td>Local</td>\n",
       "      <td>Sedan</td>\n",
       "      <td>Automatic</td>\n",
       "      <td>Registered</td>\n",
       "    </tr>\n",
       "    <tr>\n",
       "      <th>46020</th>\n",
       "      <td>46021</td>\n",
       "      <td>Toyota</td>\n",
       "      <td>Aqua</td>\n",
       "      <td>3000000</td>\n",
       "      <td>2016</td>\n",
       "      <td>Punjab</td>\n",
       "      <td>60000</td>\n",
       "      <td>Petrol</td>\n",
       "      <td>1500</td>\n",
       "      <td>Black</td>\n",
       "      <td>Imported</td>\n",
       "      <td>Hatchback</td>\n",
       "      <td>Automatic</td>\n",
       "      <td>Registered</td>\n",
       "    </tr>\n",
       "    <tr>\n",
       "      <th>46021</th>\n",
       "      <td>46022</td>\n",
       "      <td>Toyota</td>\n",
       "      <td>Corolla</td>\n",
       "      <td>2250000</td>\n",
       "      <td>2015</td>\n",
       "      <td>Punjab</td>\n",
       "      <td>77000</td>\n",
       "      <td>Petrol</td>\n",
       "      <td>1300</td>\n",
       "      <td>Assembly</td>\n",
       "      <td>Local</td>\n",
       "      <td>Sedan</td>\n",
       "      <td>Automatic</td>\n",
       "      <td>Registered</td>\n",
       "    </tr>\n",
       "  </tbody>\n",
       "</table>\n",
       "<p>46022 rows × 14 columns</p>\n",
       "</div>"
      ],
      "text/plain": [
       "       Unnamed: 0 Company Name Model Name    Price  Model Year   Location  \\\n",
       "0               0       Toyota       Vitz  2385000        2017  Islamabad   \n",
       "1               1       Toyota    Corolla   111000        2019        KPK   \n",
       "2               2       Suzuki       Alto  1530000        2019        KPK   \n",
       "3               3       Suzuki       Alto  1650000        2019     Punjab   \n",
       "4               4       Toyota    Corolla  1435000        2010  Islamabad   \n",
       "...           ...          ...        ...      ...         ...        ...   \n",
       "46017       46018        Honda      Vezel  3400000        2015     Punjab   \n",
       "46018       46019       Toyota       Aqua  2450000        2015     Punjab   \n",
       "46019       46020        Honda      Civic  3250000        2015     Punjab   \n",
       "46020       46021       Toyota       Aqua  3000000        2016     Punjab   \n",
       "46021       46022       Toyota    Corolla  2250000        2015     Punjab   \n",
       "\n",
       "       Mileage Engine Type  Engine Capacity     Color  Assembly   Body Type  \\\n",
       "0         9869      Petrol             1000    Silver  Imported   Hatchback   \n",
       "1        11111      Petrol             1300     White     Local       Sedan   \n",
       "2        17500      Petrol              660     White     Local   Hatchback   \n",
       "3         9600      Petrol              660     White     Local   Hatchback   \n",
       "4       120000      Petrol             1300     Black     Local       Sedan   \n",
       "...        ...         ...              ...       ...       ...         ...   \n",
       "46017    32000      Petrol             1500     Black  Imported  Cross Over   \n",
       "46018    52000      Petrol             1500      Blue  Imported   Hatchback   \n",
       "46019   125000      Petrol             1800     Black     Local       Sedan   \n",
       "46020    60000      Petrol             1500     Black  Imported   Hatchback   \n",
       "46021    77000      Petrol             1300  Assembly     Local       Sedan   \n",
       "\n",
       "      Transmission Type Registration Status  \n",
       "0             Automatic       Un-Registered  \n",
       "1             Automatic          Registered  \n",
       "2             Automatic       Un-Registered  \n",
       "3                Manual          Registered  \n",
       "4                Manual          Registered  \n",
       "...                 ...                 ...  \n",
       "46017         Automatic       Un-Registered  \n",
       "46018         Automatic       Un-Registered  \n",
       "46019         Automatic          Registered  \n",
       "46020         Automatic          Registered  \n",
       "46021         Automatic          Registered  \n",
       "\n",
       "[46022 rows x 14 columns]"
      ]
     },
     "execution_count": 3,
     "metadata": {},
     "output_type": "execute_result"
    }
   ],
   "source": [
    "datas"
   ]
  },
  {
   "cell_type": "code",
   "execution_count": 4,
   "id": "43f34ea4",
   "metadata": {},
   "outputs": [
    {
     "data": {
      "text/html": [
       "<div>\n",
       "<style scoped>\n",
       "    .dataframe tbody tr th:only-of-type {\n",
       "        vertical-align: middle;\n",
       "    }\n",
       "\n",
       "    .dataframe tbody tr th {\n",
       "        vertical-align: top;\n",
       "    }\n",
       "\n",
       "    .dataframe thead th {\n",
       "        text-align: right;\n",
       "    }\n",
       "</style>\n",
       "<table border=\"1\" class=\"dataframe\">\n",
       "  <thead>\n",
       "    <tr style=\"text-align: right;\">\n",
       "      <th></th>\n",
       "      <th>Unnamed: 0</th>\n",
       "      <th>Company Name</th>\n",
       "      <th>Model Name</th>\n",
       "      <th>Price</th>\n",
       "      <th>Model Year</th>\n",
       "      <th>Location</th>\n",
       "      <th>Mileage</th>\n",
       "      <th>Engine Type</th>\n",
       "      <th>Engine Capacity</th>\n",
       "      <th>Color</th>\n",
       "      <th>Assembly</th>\n",
       "      <th>Body Type</th>\n",
       "      <th>Transmission Type</th>\n",
       "      <th>Registration Status</th>\n",
       "    </tr>\n",
       "  </thead>\n",
       "  <tbody>\n",
       "    <tr>\n",
       "      <th>0</th>\n",
       "      <td>0</td>\n",
       "      <td>Toyota</td>\n",
       "      <td>Vitz</td>\n",
       "      <td>2385000</td>\n",
       "      <td>2017</td>\n",
       "      <td>Islamabad</td>\n",
       "      <td>9869</td>\n",
       "      <td>Petrol</td>\n",
       "      <td>1000</td>\n",
       "      <td>Silver</td>\n",
       "      <td>Imported</td>\n",
       "      <td>Hatchback</td>\n",
       "      <td>Automatic</td>\n",
       "      <td>Un-Registered</td>\n",
       "    </tr>\n",
       "    <tr>\n",
       "      <th>1</th>\n",
       "      <td>1</td>\n",
       "      <td>Toyota</td>\n",
       "      <td>Corolla</td>\n",
       "      <td>111000</td>\n",
       "      <td>2019</td>\n",
       "      <td>KPK</td>\n",
       "      <td>11111</td>\n",
       "      <td>Petrol</td>\n",
       "      <td>1300</td>\n",
       "      <td>White</td>\n",
       "      <td>Local</td>\n",
       "      <td>Sedan</td>\n",
       "      <td>Automatic</td>\n",
       "      <td>Registered</td>\n",
       "    </tr>\n",
       "    <tr>\n",
       "      <th>2</th>\n",
       "      <td>2</td>\n",
       "      <td>Suzuki</td>\n",
       "      <td>Alto</td>\n",
       "      <td>1530000</td>\n",
       "      <td>2019</td>\n",
       "      <td>KPK</td>\n",
       "      <td>17500</td>\n",
       "      <td>Petrol</td>\n",
       "      <td>660</td>\n",
       "      <td>White</td>\n",
       "      <td>Local</td>\n",
       "      <td>Hatchback</td>\n",
       "      <td>Automatic</td>\n",
       "      <td>Un-Registered</td>\n",
       "    </tr>\n",
       "    <tr>\n",
       "      <th>3</th>\n",
       "      <td>3</td>\n",
       "      <td>Suzuki</td>\n",
       "      <td>Alto</td>\n",
       "      <td>1650000</td>\n",
       "      <td>2019</td>\n",
       "      <td>Punjab</td>\n",
       "      <td>9600</td>\n",
       "      <td>Petrol</td>\n",
       "      <td>660</td>\n",
       "      <td>White</td>\n",
       "      <td>Local</td>\n",
       "      <td>Hatchback</td>\n",
       "      <td>Manual</td>\n",
       "      <td>Registered</td>\n",
       "    </tr>\n",
       "    <tr>\n",
       "      <th>4</th>\n",
       "      <td>4</td>\n",
       "      <td>Toyota</td>\n",
       "      <td>Corolla</td>\n",
       "      <td>1435000</td>\n",
       "      <td>2010</td>\n",
       "      <td>Islamabad</td>\n",
       "      <td>120000</td>\n",
       "      <td>Petrol</td>\n",
       "      <td>1300</td>\n",
       "      <td>Black</td>\n",
       "      <td>Local</td>\n",
       "      <td>Sedan</td>\n",
       "      <td>Manual</td>\n",
       "      <td>Registered</td>\n",
       "    </tr>\n",
       "  </tbody>\n",
       "</table>\n",
       "</div>"
      ],
      "text/plain": [
       "   Unnamed: 0 Company Name Model Name    Price  Model Year   Location  \\\n",
       "0           0       Toyota       Vitz  2385000        2017  Islamabad   \n",
       "1           1       Toyota    Corolla   111000        2019        KPK   \n",
       "2           2       Suzuki       Alto  1530000        2019        KPK   \n",
       "3           3       Suzuki       Alto  1650000        2019     Punjab   \n",
       "4           4       Toyota    Corolla  1435000        2010  Islamabad   \n",
       "\n",
       "   Mileage Engine Type  Engine Capacity   Color  Assembly  Body Type  \\\n",
       "0     9869      Petrol             1000  Silver  Imported  Hatchback   \n",
       "1    11111      Petrol             1300   White     Local      Sedan   \n",
       "2    17500      Petrol              660   White     Local  Hatchback   \n",
       "3     9600      Petrol              660   White     Local  Hatchback   \n",
       "4   120000      Petrol             1300   Black     Local      Sedan   \n",
       "\n",
       "  Transmission Type Registration Status  \n",
       "0         Automatic       Un-Registered  \n",
       "1         Automatic          Registered  \n",
       "2         Automatic       Un-Registered  \n",
       "3            Manual          Registered  \n",
       "4            Manual          Registered  "
      ]
     },
     "execution_count": 4,
     "metadata": {},
     "output_type": "execute_result"
    }
   ],
   "source": [
    "datas.head()"
   ]
  },
  {
   "cell_type": "code",
   "execution_count": 5,
   "id": "c07b6e8d",
   "metadata": {},
   "outputs": [
    {
     "data": {
      "text/html": [
       "<div>\n",
       "<style scoped>\n",
       "    .dataframe tbody tr th:only-of-type {\n",
       "        vertical-align: middle;\n",
       "    }\n",
       "\n",
       "    .dataframe tbody tr th {\n",
       "        vertical-align: top;\n",
       "    }\n",
       "\n",
       "    .dataframe thead th {\n",
       "        text-align: right;\n",
       "    }\n",
       "</style>\n",
       "<table border=\"1\" class=\"dataframe\">\n",
       "  <thead>\n",
       "    <tr style=\"text-align: right;\">\n",
       "      <th></th>\n",
       "      <th>Unnamed: 0</th>\n",
       "      <th>Company Name</th>\n",
       "      <th>Model Name</th>\n",
       "      <th>Price</th>\n",
       "      <th>Model Year</th>\n",
       "      <th>Location</th>\n",
       "      <th>Mileage</th>\n",
       "      <th>Engine Type</th>\n",
       "      <th>Engine Capacity</th>\n",
       "      <th>Color</th>\n",
       "      <th>Assembly</th>\n",
       "      <th>Body Type</th>\n",
       "      <th>Transmission Type</th>\n",
       "      <th>Registration Status</th>\n",
       "    </tr>\n",
       "  </thead>\n",
       "  <tbody>\n",
       "    <tr>\n",
       "      <th>46017</th>\n",
       "      <td>46018</td>\n",
       "      <td>Honda</td>\n",
       "      <td>Vezel</td>\n",
       "      <td>3400000</td>\n",
       "      <td>2015</td>\n",
       "      <td>Punjab</td>\n",
       "      <td>32000</td>\n",
       "      <td>Petrol</td>\n",
       "      <td>1500</td>\n",
       "      <td>Black</td>\n",
       "      <td>Imported</td>\n",
       "      <td>Cross Over</td>\n",
       "      <td>Automatic</td>\n",
       "      <td>Un-Registered</td>\n",
       "    </tr>\n",
       "    <tr>\n",
       "      <th>46018</th>\n",
       "      <td>46019</td>\n",
       "      <td>Toyota</td>\n",
       "      <td>Aqua</td>\n",
       "      <td>2450000</td>\n",
       "      <td>2015</td>\n",
       "      <td>Punjab</td>\n",
       "      <td>52000</td>\n",
       "      <td>Petrol</td>\n",
       "      <td>1500</td>\n",
       "      <td>Blue</td>\n",
       "      <td>Imported</td>\n",
       "      <td>Hatchback</td>\n",
       "      <td>Automatic</td>\n",
       "      <td>Un-Registered</td>\n",
       "    </tr>\n",
       "    <tr>\n",
       "      <th>46019</th>\n",
       "      <td>46020</td>\n",
       "      <td>Honda</td>\n",
       "      <td>Civic</td>\n",
       "      <td>3250000</td>\n",
       "      <td>2015</td>\n",
       "      <td>Punjab</td>\n",
       "      <td>125000</td>\n",
       "      <td>Petrol</td>\n",
       "      <td>1800</td>\n",
       "      <td>Black</td>\n",
       "      <td>Local</td>\n",
       "      <td>Sedan</td>\n",
       "      <td>Automatic</td>\n",
       "      <td>Registered</td>\n",
       "    </tr>\n",
       "    <tr>\n",
       "      <th>46020</th>\n",
       "      <td>46021</td>\n",
       "      <td>Toyota</td>\n",
       "      <td>Aqua</td>\n",
       "      <td>3000000</td>\n",
       "      <td>2016</td>\n",
       "      <td>Punjab</td>\n",
       "      <td>60000</td>\n",
       "      <td>Petrol</td>\n",
       "      <td>1500</td>\n",
       "      <td>Black</td>\n",
       "      <td>Imported</td>\n",
       "      <td>Hatchback</td>\n",
       "      <td>Automatic</td>\n",
       "      <td>Registered</td>\n",
       "    </tr>\n",
       "    <tr>\n",
       "      <th>46021</th>\n",
       "      <td>46022</td>\n",
       "      <td>Toyota</td>\n",
       "      <td>Corolla</td>\n",
       "      <td>2250000</td>\n",
       "      <td>2015</td>\n",
       "      <td>Punjab</td>\n",
       "      <td>77000</td>\n",
       "      <td>Petrol</td>\n",
       "      <td>1300</td>\n",
       "      <td>Assembly</td>\n",
       "      <td>Local</td>\n",
       "      <td>Sedan</td>\n",
       "      <td>Automatic</td>\n",
       "      <td>Registered</td>\n",
       "    </tr>\n",
       "  </tbody>\n",
       "</table>\n",
       "</div>"
      ],
      "text/plain": [
       "       Unnamed: 0 Company Name Model Name    Price  Model Year Location  \\\n",
       "46017       46018        Honda      Vezel  3400000        2015   Punjab   \n",
       "46018       46019       Toyota       Aqua  2450000        2015   Punjab   \n",
       "46019       46020        Honda      Civic  3250000        2015   Punjab   \n",
       "46020       46021       Toyota       Aqua  3000000        2016   Punjab   \n",
       "46021       46022       Toyota    Corolla  2250000        2015   Punjab   \n",
       "\n",
       "       Mileage Engine Type  Engine Capacity     Color  Assembly   Body Type  \\\n",
       "46017    32000      Petrol             1500     Black  Imported  Cross Over   \n",
       "46018    52000      Petrol             1500      Blue  Imported   Hatchback   \n",
       "46019   125000      Petrol             1800     Black     Local       Sedan   \n",
       "46020    60000      Petrol             1500     Black  Imported   Hatchback   \n",
       "46021    77000      Petrol             1300  Assembly     Local       Sedan   \n",
       "\n",
       "      Transmission Type Registration Status  \n",
       "46017         Automatic       Un-Registered  \n",
       "46018         Automatic       Un-Registered  \n",
       "46019         Automatic          Registered  \n",
       "46020         Automatic          Registered  \n",
       "46021         Automatic          Registered  "
      ]
     },
     "execution_count": 5,
     "metadata": {},
     "output_type": "execute_result"
    }
   ],
   "source": [
    "datas.tail()"
   ]
  },
  {
   "cell_type": "code",
   "execution_count": 6,
   "id": "ab59063f",
   "metadata": {},
   "outputs": [
    {
     "data": {
      "text/plain": [
       "Index(['Unnamed: 0', 'Company Name', 'Model Name', 'Price', 'Model Year',\n",
       "       'Location', 'Mileage', 'Engine Type', 'Engine Capacity', 'Color',\n",
       "       'Assembly', 'Body Type', 'Transmission Type', 'Registration Status'],\n",
       "      dtype='object')"
      ]
     },
     "execution_count": 6,
     "metadata": {},
     "output_type": "execute_result"
    }
   ],
   "source": [
    "datas.columns"
   ]
  },
  {
   "cell_type": "code",
   "execution_count": 7,
   "id": "777d0905",
   "metadata": {},
   "outputs": [
    {
     "data": {
      "text/plain": [
       "array(['Toyota', 'Suzuki', 'Honda', 'Mitsubishi', 'Nissan', 'Daihatsu',\n",
       "       'Audi', 'Chevrolet', 'Mercedes', 'Hyundai', 'Daewoo', 'BMW', 'FAW',\n",
       "       'Range', 'DFSK', 'KIA', 'Lexus', 'United', 'SsangYong', 'Mazda',\n",
       "       'Subaru', 'Porsche', 'Chery', 'Fiat', 'Land', 'MINI', 'Hummer',\n",
       "       'Jeep', 'Jaguar', 'Adam', 'Volvo'], dtype=object)"
      ]
     },
     "execution_count": 7,
     "metadata": {},
     "output_type": "execute_result"
    }
   ],
   "source": [
    "datas[\"Company Name\"].unique()"
   ]
  },
  {
   "cell_type": "code",
   "execution_count": 8,
   "id": "fa948bf5",
   "metadata": {},
   "outputs": [
    {
     "data": {
      "text/plain": [
       "array(['Vitz', 'Corolla', 'Alto', 'Civic', 'Wagon', 'Mirage', 'Prado',\n",
       "       'Vezel', 'City', 'N', 'Cultus', 'Fortuner', 'Mehran', 'Khyber',\n",
       "       'Dayz', 'Mira', 'Prius', 'Juke', 'Passo', 'Bolan', 'Swift',\n",
       "       'Liana', 'Margalla', 'Belta', 'Camry', 'A4', 'Noah', 'Hijet',\n",
       "       'Land', 'Aqua', 'Fit', 'Accord', 'Joy', 'Cast', 'Probox', 'Move',\n",
       "       'MR', 'Lancer', 'C-HR', 'Benz', 'Voxy', 'Mark', 'Cuore', 'Platz',\n",
       "       'A6', 'Baleno', 'Premio', 'Terios', 'Surf', 'Crown', 'Santro',\n",
       "       'Boon', 'Ek', 'Racer', 'Tanto', 'Esse', 'Aygo', '7', 'Grace',\n",
       "       'Kizashi', '3', 'Clipper', 'Ciaz', 'X-PV', 'Moco', 'Allion',\n",
       "       'Vamos', 'Pixis', 'Bego', 'Sunny', 'A5', 'Porte', 'ISIS', 'Rover',\n",
       "       'Hustler', 'Glory', 'Life', 'Rush', 'Jimny', 'Otti', 'Sportage',\n",
       "       'Excel', 'RX', 'Bravo', 'Kei', 'Sienta', 'Cross', 'EK', 'Corona',\n",
       "       'Note', 'Hilux', 'Spectra', 'Pajero', 'Tiida', 'Freed', 'C37',\n",
       "       'March', '5', 'A3', 'CT200h', 'Insight', 'X', 'Picanto', 'Celerio',\n",
       "       'Bluebird', 'Potohar', 'Stavic', 'Vitara', 'X6', 'Estima',\n",
       "       'Galant', 'Q7', 'V2', 'Flair', 'Roox', 'APV', 'FX', 'Stella',\n",
       "       'Carol', 'HR-V', 'Rav4', 'Hiace', 'Stream', 'Cayenne', 'Caldina',\n",
       "       'Pleo', 'Azwagon', 'Q2', 'Q3', 'Starlet', 'LX', 'Axela', 'Sonica',\n",
       "       'Patrol', 'CR-V', 'Wake', 'X1', 'Panamera', 'IST', 'Macan', 'Duet',\n",
       "       'Outlander', 'Acty', 'Pino', 'QQ', 'Zest', 'Wish', 'Aveo', 'Scrum',\n",
       "       'Dias', 'Terrano', 'Exclusive', 'B', 'Pride', 'Sirius', 'Uno',\n",
       "       'Splash', 'Solio', 'Cervo', 'Blue', 'I', 'Cooper', 'Succeed',\n",
       "       'Auris', 'Charade', 'iQ', 'Optra', 'H2', 'X5', 'Wrangler',\n",
       "       'Vanguard', 'Minica', 'Thats', 'Justy', 'Impreza', 'XF', 'Familia',\n",
       "       'Sx4', 'Latio', 'Cami', 'Avanza', 'Alphard', 'Rumion', 'Coupe',\n",
       "       'Palette', 'Skyline', 'Convoy', 'Altezza', 'L300', 'Revo',\n",
       "       'Cefiro', 'A7', 'X3', 'S40', 'Ractis', 'CJ'], dtype=object)"
      ]
     },
     "execution_count": 8,
     "metadata": {},
     "output_type": "execute_result"
    }
   ],
   "source": [
    "datas[\"Model Name\"].unique()"
   ]
  },
  {
   "cell_type": "code",
   "execution_count": 32,
   "id": "e7a5a1f8",
   "metadata": {},
   "outputs": [
    {
     "data": {
      "text/plain": [
       "array(['Islamabad', 'KPK', 'Punjab', 'Sindh', 'Balochistan', 'Kashmir'],\n",
       "      dtype=object)"
      ]
     },
     "execution_count": 32,
     "metadata": {},
     "output_type": "execute_result"
    }
   ],
   "source": [
    "datas[\"Location\"].unique()"
   ]
  },
  {
   "cell_type": "code",
   "execution_count": 35,
   "id": "46f55340",
   "metadata": {},
   "outputs": [
    {
     "data": {
      "text/plain": [
       "array(['Automatic', 'Manual'], dtype=object)"
      ]
     },
     "execution_count": 35,
     "metadata": {},
     "output_type": "execute_result"
    }
   ],
   "source": [
    "datas[\"Transmission Type\"].unique()"
   ]
  },
  {
   "cell_type": "code",
   "execution_count": 34,
   "id": "2a757e0e",
   "metadata": {},
   "outputs": [
    {
     "data": {
      "text/plain": [
       "array(['Petrol', 'Diesel', 'Hybrid'], dtype=object)"
      ]
     },
     "execution_count": 34,
     "metadata": {},
     "output_type": "execute_result"
    }
   ],
   "source": [
    "datas[\"Engine Type\"].unique()"
   ]
  },
  {
   "cell_type": "code",
   "execution_count": 36,
   "id": "77ba8c05",
   "metadata": {},
   "outputs": [
    {
     "data": {
      "text/plain": [
       "array(['Hatchback', 'Sedan', 'SUV', 'Cross Over', 'Van', 'Mini Van'],\n",
       "      dtype=object)"
      ]
     },
     "execution_count": 36,
     "metadata": {},
     "output_type": "execute_result"
    }
   ],
   "source": [
    "datas[\"Body Type\"].unique()"
   ]
  },
  {
   "cell_type": "code",
   "execution_count": 33,
   "id": "40b451ea",
   "metadata": {},
   "outputs": [
    {
     "data": {
      "text/plain": [
       "6"
      ]
     },
     "execution_count": 33,
     "metadata": {},
     "output_type": "execute_result"
    }
   ],
   "source": [
    "len(datas[\"Location\"].unique())   #There are 6 different locations in the given dataset."
   ]
  },
  {
   "cell_type": "code",
   "execution_count": 9,
   "id": "d8c044cb",
   "metadata": {},
   "outputs": [
    {
     "data": {
      "text/plain": [
       "196"
      ]
     },
     "execution_count": 9,
     "metadata": {},
     "output_type": "execute_result"
    }
   ],
   "source": [
    "len(datas[\"Model Name\"].unique())   #There are 196 different model names in the given data set."
   ]
  },
  {
   "cell_type": "code",
   "execution_count": 10,
   "id": "c7f365b3",
   "metadata": {},
   "outputs": [
    {
     "data": {
      "text/plain": [
       "31"
      ]
     },
     "execution_count": 10,
     "metadata": {},
     "output_type": "execute_result"
    }
   ],
   "source": [
    "len(datas[\"Company Name\"].unique())  #There are 31 different company names in the given data set."
   ]
  },
  {
   "cell_type": "code",
   "execution_count": 11,
   "id": "ae2fbd0f",
   "metadata": {},
   "outputs": [
    {
     "name": "stderr",
     "output_type": "stream",
     "text": [
      "C:\\Users\\user\\Downloads\\New folder\\envs\\Datascience\\Lib\\site-packages\\seaborn\\_oldcore.py:1498: FutureWarning: is_categorical_dtype is deprecated and will be removed in a future version. Use isinstance(dtype, CategoricalDtype) instead\n",
      "  if pd.api.types.is_categorical_dtype(vector):\n",
      "C:\\Users\\user\\Downloads\\New folder\\envs\\Datascience\\Lib\\site-packages\\seaborn\\_oldcore.py:1119: FutureWarning: use_inf_as_na option is deprecated and will be removed in a future version. Convert inf values to NaN before operating instead.\n",
      "  with pd.option_context('mode.use_inf_as_na', True):\n"
     ]
    },
    {
     "data": {
      "text/plain": [
       "<Axes: xlabel='Mileage', ylabel='Count'>"
      ]
     },
     "execution_count": 11,
     "metadata": {},
     "output_type": "execute_result"
    },
    {
     "data": {
      "image/png": "[encoded data removed]",
      "text/plain": [
       "<Figure size 640x480 with 1 Axes>"
      ]
     },
     "metadata": {},
     "output_type": "display_data"
    }
   ],
   "source": [
    "sns.histplot(datas[\"Mileage\"],bins=10)"
   ]
  },
  {
   "cell_type": "code",
   "execution_count": 12,
   "id": "6e63d212",
   "metadata": {},
   "outputs": [
    {
     "data": {
      "text/plain": [
       "1313.1155751597062"
      ]
     },
     "execution_count": 12,
     "metadata": {},
     "output_type": "execute_result"
    }
   ],
   "source": [
    "datas[\"Engine Capacity\"].mean()  #The overall mean of the engine capacity of the given dataset is 1313.1155."
   ]
  },
  {
   "cell_type": "code",
   "execution_count": 13,
   "id": "af5bfaf3",
   "metadata": {},
   "outputs": [
    {
     "data": {
      "text/plain": [
       "0    1000\n",
       "Name: Engine Capacity, dtype: int64"
      ]
     },
     "execution_count": 13,
     "metadata": {},
     "output_type": "execute_result"
    }
   ],
   "source": [
    "datas[\"Engine Capacity\"].mode()"
   ]
  },
  {
   "cell_type": "code",
   "execution_count": 14,
   "id": "001db0b7",
   "metadata": {},
   "outputs": [
    {
     "data": {
      "text/plain": [
       "1300.0"
      ]
     },
     "execution_count": 14,
     "metadata": {},
     "output_type": "execute_result"
    }
   ],
   "source": [
    "datas[\"Engine Capacity\"].median()  #The overall median of the engine capacity of the given dataset is 1300."
   ]
  },
  {
   "cell_type": "code",
   "execution_count": 38,
   "id": "125d9125",
   "metadata": {},
   "outputs": [
    {
     "data": {
      "text/plain": [
       "6600"
      ]
     },
     "execution_count": 38,
     "metadata": {},
     "output_type": "execute_result"
    }
   ],
   "source": [
    "datas[\"Engine Capacity\"].max()"
   ]
  },
  {
   "cell_type": "code",
   "execution_count": 39,
   "id": "0d73190c",
   "metadata": {},
   "outputs": [
    {
     "data": {
      "text/plain": [
       "16"
      ]
     },
     "execution_count": 39,
     "metadata": {},
     "output_type": "execute_result"
    }
   ],
   "source": [
    "datas[\"Engine Capacity\"].min()"
   ]
  },
  {
   "cell_type": "code",
   "execution_count": 40,
   "id": "a601daca",
   "metadata": {},
   "outputs": [
    {
     "data": {
      "text/plain": [
       "999999"
      ]
     },
     "execution_count": 40,
     "metadata": {},
     "output_type": "execute_result"
    }
   ],
   "source": [
    "datas[\"Mileage\"].max()"
   ]
  },
  {
   "cell_type": "code",
   "execution_count": 41,
   "id": "f18a599c",
   "metadata": {},
   "outputs": [
    {
     "data": {
      "text/plain": [
       "1"
      ]
     },
     "execution_count": 41,
     "metadata": {},
     "output_type": "execute_result"
    }
   ],
   "source": [
    "datas[\"Mileage\"].min()"
   ]
  },
  {
   "cell_type": "code",
   "execution_count": 15,
   "id": "36c4c4af",
   "metadata": {},
   "outputs": [],
   "source": [
    "datas.drop(\"Unnamed: 0\", axis = 1, inplace = True)"
   ]
  },
  {
   "cell_type": "code",
   "execution_count": 16,
   "id": "ec9ddfdc",
   "metadata": {},
   "outputs": [
    {
     "data": {
      "text/html": [
       "<div>\n",
       "<style scoped>\n",
       "    .dataframe tbody tr th:only-of-type {\n",
       "        vertical-align: middle;\n",
       "    }\n",
       "\n",
       "    .dataframe tbody tr th {\n",
       "        vertical-align: top;\n",
       "    }\n",
       "\n",
       "    .dataframe thead th {\n",
       "        text-align: right;\n",
       "    }\n",
       "</style>\n",
       "<table border=\"1\" class=\"dataframe\">\n",
       "  <thead>\n",
       "    <tr style=\"text-align: right;\">\n",
       "      <th></th>\n",
       "      <th>Company Name</th>\n",
       "      <th>Model Name</th>\n",
       "      <th>Price</th>\n",
       "      <th>Model Year</th>\n",
       "      <th>Location</th>\n",
       "      <th>Mileage</th>\n",
       "      <th>Engine Type</th>\n",
       "      <th>Engine Capacity</th>\n",
       "      <th>Color</th>\n",
       "      <th>Assembly</th>\n",
       "      <th>Body Type</th>\n",
       "      <th>Transmission Type</th>\n",
       "      <th>Registration Status</th>\n",
       "    </tr>\n",
       "  </thead>\n",
       "  <tbody>\n",
       "    <tr>\n",
       "      <th>0</th>\n",
       "      <td>Toyota</td>\n",
       "      <td>Vitz</td>\n",
       "      <td>2385000</td>\n",
       "      <td>2017</td>\n",
       "      <td>Islamabad</td>\n",
       "      <td>9869</td>\n",
       "      <td>Petrol</td>\n",
       "      <td>1000</td>\n",
       "      <td>Silver</td>\n",
       "      <td>Imported</td>\n",
       "      <td>Hatchback</td>\n",
       "      <td>Automatic</td>\n",
       "      <td>Un-Registered</td>\n",
       "    </tr>\n",
       "    <tr>\n",
       "      <th>1</th>\n",
       "      <td>Toyota</td>\n",
       "      <td>Corolla</td>\n",
       "      <td>111000</td>\n",
       "      <td>2019</td>\n",
       "      <td>KPK</td>\n",
       "      <td>11111</td>\n",
       "      <td>Petrol</td>\n",
       "      <td>1300</td>\n",
       "      <td>White</td>\n",
       "      <td>Local</td>\n",
       "      <td>Sedan</td>\n",
       "      <td>Automatic</td>\n",
       "      <td>Registered</td>\n",
       "    </tr>\n",
       "    <tr>\n",
       "      <th>2</th>\n",
       "      <td>Suzuki</td>\n",
       "      <td>Alto</td>\n",
       "      <td>1530000</td>\n",
       "      <td>2019</td>\n",
       "      <td>KPK</td>\n",
       "      <td>17500</td>\n",
       "      <td>Petrol</td>\n",
       "      <td>660</td>\n",
       "      <td>White</td>\n",
       "      <td>Local</td>\n",
       "      <td>Hatchback</td>\n",
       "      <td>Automatic</td>\n",
       "      <td>Un-Registered</td>\n",
       "    </tr>\n",
       "    <tr>\n",
       "      <th>3</th>\n",
       "      <td>Suzuki</td>\n",
       "      <td>Alto</td>\n",
       "      <td>1650000</td>\n",
       "      <td>2019</td>\n",
       "      <td>Punjab</td>\n",
       "      <td>9600</td>\n",
       "      <td>Petrol</td>\n",
       "      <td>660</td>\n",
       "      <td>White</td>\n",
       "      <td>Local</td>\n",
       "      <td>Hatchback</td>\n",
       "      <td>Manual</td>\n",
       "      <td>Registered</td>\n",
       "    </tr>\n",
       "    <tr>\n",
       "      <th>4</th>\n",
       "      <td>Toyota</td>\n",
       "      <td>Corolla</td>\n",
       "      <td>1435000</td>\n",
       "      <td>2010</td>\n",
       "      <td>Islamabad</td>\n",
       "      <td>120000</td>\n",
       "      <td>Petrol</td>\n",
       "      <td>1300</td>\n",
       "      <td>Black</td>\n",
       "      <td>Local</td>\n",
       "      <td>Sedan</td>\n",
       "      <td>Manual</td>\n",
       "      <td>Registered</td>\n",
       "    </tr>\n",
       "    <tr>\n",
       "      <th>...</th>\n",
       "      <td>...</td>\n",
       "      <td>...</td>\n",
       "      <td>...</td>\n",
       "      <td>...</td>\n",
       "      <td>...</td>\n",
       "      <td>...</td>\n",
       "      <td>...</td>\n",
       "      <td>...</td>\n",
       "      <td>...</td>\n",
       "      <td>...</td>\n",
       "      <td>...</td>\n",
       "      <td>...</td>\n",
       "      <td>...</td>\n",
       "    </tr>\n",
       "    <tr>\n",
       "      <th>46017</th>\n",
       "      <td>Honda</td>\n",
       "      <td>Vezel</td>\n",
       "      <td>3400000</td>\n",
       "      <td>2015</td>\n",
       "      <td>Punjab</td>\n",
       "      <td>32000</td>\n",
       "      <td>Petrol</td>\n",
       "      <td>1500</td>\n",
       "      <td>Black</td>\n",
       "      <td>Imported</td>\n",
       "      <td>Cross Over</td>\n",
       "      <td>Automatic</td>\n",
       "      <td>Un-Registered</td>\n",
       "    </tr>\n",
       "    <tr>\n",
       "      <th>46018</th>\n",
       "      <td>Toyota</td>\n",
       "      <td>Aqua</td>\n",
       "      <td>2450000</td>\n",
       "      <td>2015</td>\n",
       "      <td>Punjab</td>\n",
       "      <td>52000</td>\n",
       "      <td>Petrol</td>\n",
       "      <td>1500</td>\n",
       "      <td>Blue</td>\n",
       "      <td>Imported</td>\n",
       "      <td>Hatchback</td>\n",
       "      <td>Automatic</td>\n",
       "      <td>Un-Registered</td>\n",
       "    </tr>\n",
       "    <tr>\n",
       "      <th>46019</th>\n",
       "      <td>Honda</td>\n",
       "      <td>Civic</td>\n",
       "      <td>3250000</td>\n",
       "      <td>2015</td>\n",
       "      <td>Punjab</td>\n",
       "      <td>125000</td>\n",
       "      <td>Petrol</td>\n",
       "      <td>1800</td>\n",
       "      <td>Black</td>\n",
       "      <td>Local</td>\n",
       "      <td>Sedan</td>\n",
       "      <td>Automatic</td>\n",
       "      <td>Registered</td>\n",
       "    </tr>\n",
       "    <tr>\n",
       "      <th>46020</th>\n",
       "      <td>Toyota</td>\n",
       "      <td>Aqua</td>\n",
       "      <td>3000000</td>\n",
       "      <td>2016</td>\n",
       "      <td>Punjab</td>\n",
       "      <td>60000</td>\n",
       "      <td>Petrol</td>\n",
       "      <td>1500</td>\n",
       "      <td>Black</td>\n",
       "      <td>Imported</td>\n",
       "      <td>Hatchback</td>\n",
       "      <td>Automatic</td>\n",
       "      <td>Registered</td>\n",
       "    </tr>\n",
       "    <tr>\n",
       "      <th>46021</th>\n",
       "      <td>Toyota</td>\n",
       "      <td>Corolla</td>\n",
       "      <td>2250000</td>\n",
       "      <td>2015</td>\n",
       "      <td>Punjab</td>\n",
       "      <td>77000</td>\n",
       "      <td>Petrol</td>\n",
       "      <td>1300</td>\n",
       "      <td>Assembly</td>\n",
       "      <td>Local</td>\n",
       "      <td>Sedan</td>\n",
       "      <td>Automatic</td>\n",
       "      <td>Registered</td>\n",
       "    </tr>\n",
       "  </tbody>\n",
       "</table>\n",
       "<p>46022 rows × 13 columns</p>\n",
       "</div>"
      ],
      "text/plain": [
       "      Company Name Model Name    Price  Model Year   Location  Mileage  \\\n",
       "0           Toyota       Vitz  2385000        2017  Islamabad     9869   \n",
       "1           Toyota    Corolla   111000        2019        KPK    11111   \n",
       "2           Suzuki       Alto  1530000        2019        KPK    17500   \n",
       "3           Suzuki       Alto  1650000        2019     Punjab     9600   \n",
       "4           Toyota    Corolla  1435000        2010  Islamabad   120000   \n",
       "...            ...        ...      ...         ...        ...      ...   \n",
       "46017        Honda      Vezel  3400000        2015     Punjab    32000   \n",
       "46018       Toyota       Aqua  2450000        2015     Punjab    52000   \n",
       "46019        Honda      Civic  3250000        2015     Punjab   125000   \n",
       "46020       Toyota       Aqua  3000000        2016     Punjab    60000   \n",
       "46021       Toyota    Corolla  2250000        2015     Punjab    77000   \n",
       "\n",
       "      Engine Type  Engine Capacity     Color  Assembly   Body Type  \\\n",
       "0          Petrol             1000    Silver  Imported   Hatchback   \n",
       "1          Petrol             1300     White     Local       Sedan   \n",
       "2          Petrol              660     White     Local   Hatchback   \n",
       "3          Petrol              660     White     Local   Hatchback   \n",
       "4          Petrol             1300     Black     Local       Sedan   \n",
       "...           ...              ...       ...       ...         ...   \n",
       "46017      Petrol             1500     Black  Imported  Cross Over   \n",
       "46018      Petrol             1500      Blue  Imported   Hatchback   \n",
       "46019      Petrol             1800     Black     Local       Sedan   \n",
       "46020      Petrol             1500     Black  Imported   Hatchback   \n",
       "46021      Petrol             1300  Assembly     Local       Sedan   \n",
       "\n",
       "      Transmission Type Registration Status  \n",
       "0             Automatic       Un-Registered  \n",
       "1             Automatic          Registered  \n",
       "2             Automatic       Un-Registered  \n",
       "3                Manual          Registered  \n",
       "4                Manual          Registered  \n",
       "...                 ...                 ...  \n",
       "46017         Automatic       Un-Registered  \n",
       "46018         Automatic       Un-Registered  \n",
       "46019         Automatic          Registered  \n",
       "46020         Automatic          Registered  \n",
       "46021         Automatic          Registered  \n",
       "\n",
       "[46022 rows x 13 columns]"
      ]
     },
     "execution_count": 16,
     "metadata": {},
     "output_type": "execute_result"
    }
   ],
   "source": [
    "datas"
   ]
  },
  {
   "cell_type": "code",
   "execution_count": 17,
   "id": "15bc1a06",
   "metadata": {},
   "outputs": [
    {
     "data": {
      "text/html": [
       "<div>\n",
       "<style scoped>\n",
       "    .dataframe tbody tr th:only-of-type {\n",
       "        vertical-align: middle;\n",
       "    }\n",
       "\n",
       "    .dataframe tbody tr th {\n",
       "        vertical-align: top;\n",
       "    }\n",
       "\n",
       "    .dataframe thead th {\n",
       "        text-align: right;\n",
       "    }\n",
       "</style>\n",
       "<table border=\"1\" class=\"dataframe\">\n",
       "  <thead>\n",
       "    <tr style=\"text-align: right;\">\n",
       "      <th></th>\n",
       "      <th>Company Name</th>\n",
       "      <th>Model Year</th>\n",
       "    </tr>\n",
       "  </thead>\n",
       "  <tbody>\n",
       "    <tr>\n",
       "      <th>1</th>\n",
       "      <td>Toyota</td>\n",
       "      <td>2019</td>\n",
       "    </tr>\n",
       "  </tbody>\n",
       "</table>\n",
       "</div>"
      ],
      "text/plain": [
       "  Company Name  Model Year\n",
       "1       Toyota        2019"
      ]
     },
     "execution_count": 17,
     "metadata": {},
     "output_type": "execute_result"
    }
   ],
   "source": [
    "#finding the lowest priced cars\n",
    "datas.loc[datas[\"Price\"] == datas[\"Price\"].min(),[\"Company Name\", \"Model Year\"]]"
   ]
  },
  {
   "cell_type": "code",
   "execution_count": 18,
   "id": "0a6a962b",
   "metadata": {},
   "outputs": [
    {
     "data": {
      "text/html": [
       "<div>\n",
       "<style scoped>\n",
       "    .dataframe tbody tr th:only-of-type {\n",
       "        vertical-align: middle;\n",
       "    }\n",
       "\n",
       "    .dataframe tbody tr th {\n",
       "        vertical-align: top;\n",
       "    }\n",
       "\n",
       "    .dataframe thead th {\n",
       "        text-align: right;\n",
       "    }\n",
       "</style>\n",
       "<table border=\"1\" class=\"dataframe\">\n",
       "  <thead>\n",
       "    <tr style=\"text-align: right;\">\n",
       "      <th></th>\n",
       "      <th>Company Name</th>\n",
       "      <th>Model Year</th>\n",
       "    </tr>\n",
       "  </thead>\n",
       "  <tbody>\n",
       "    <tr>\n",
       "      <th>20155</th>\n",
       "      <td>Lexus</td>\n",
       "      <td>2018</td>\n",
       "    </tr>\n",
       "  </tbody>\n",
       "</table>\n",
       "</div>"
      ],
      "text/plain": [
       "      Company Name  Model Year\n",
       "20155        Lexus        2018"
      ]
     },
     "execution_count": 18,
     "metadata": {},
     "output_type": "execute_result"
    }
   ],
   "source": [
    "#finding the highest priced cars\n",
    "datas.loc[datas[\"Price\"] == datas[\"Price\"].max(),[\"Company Name\", \"Model Year\"]]"
   ]
  },
  {
   "cell_type": "code",
   "execution_count": 19,
   "id": "46f4b86f",
   "metadata": {},
   "outputs": [
    {
     "data": {
      "text/html": [
       "<div>\n",
       "<style scoped>\n",
       "    .dataframe tbody tr th:only-of-type {\n",
       "        vertical-align: middle;\n",
       "    }\n",
       "\n",
       "    .dataframe tbody tr th {\n",
       "        vertical-align: top;\n",
       "    }\n",
       "\n",
       "    .dataframe thead th {\n",
       "        text-align: right;\n",
       "    }\n",
       "</style>\n",
       "<table border=\"1\" class=\"dataframe\">\n",
       "  <thead>\n",
       "    <tr style=\"text-align: right;\">\n",
       "      <th></th>\n",
       "      <th>Company Name</th>\n",
       "      <th>Model Year</th>\n",
       "    </tr>\n",
       "  </thead>\n",
       "  <tbody>\n",
       "    <tr>\n",
       "      <th>180</th>\n",
       "      <td>Mitsubishi</td>\n",
       "      <td>1990</td>\n",
       "    </tr>\n",
       "    <tr>\n",
       "      <th>573</th>\n",
       "      <td>Toyota</td>\n",
       "      <td>1990</td>\n",
       "    </tr>\n",
       "    <tr>\n",
       "      <th>1785</th>\n",
       "      <td>Honda</td>\n",
       "      <td>1990</td>\n",
       "    </tr>\n",
       "    <tr>\n",
       "      <th>1942</th>\n",
       "      <td>Toyota</td>\n",
       "      <td>1990</td>\n",
       "    </tr>\n",
       "    <tr>\n",
       "      <th>2385</th>\n",
       "      <td>Suzuki</td>\n",
       "      <td>1990</td>\n",
       "    </tr>\n",
       "    <tr>\n",
       "      <th>...</th>\n",
       "      <td>...</td>\n",
       "      <td>...</td>\n",
       "    </tr>\n",
       "    <tr>\n",
       "      <th>44734</th>\n",
       "      <td>Mitsubishi</td>\n",
       "      <td>1990</td>\n",
       "    </tr>\n",
       "    <tr>\n",
       "      <th>44817</th>\n",
       "      <td>Toyota</td>\n",
       "      <td>1990</td>\n",
       "    </tr>\n",
       "    <tr>\n",
       "      <th>45403</th>\n",
       "      <td>Suzuki</td>\n",
       "      <td>1990</td>\n",
       "    </tr>\n",
       "    <tr>\n",
       "      <th>45451</th>\n",
       "      <td>Suzuki</td>\n",
       "      <td>1990</td>\n",
       "    </tr>\n",
       "    <tr>\n",
       "      <th>45504</th>\n",
       "      <td>Suzuki</td>\n",
       "      <td>1990</td>\n",
       "    </tr>\n",
       "  </tbody>\n",
       "</table>\n",
       "<p>178 rows × 2 columns</p>\n",
       "</div>"
      ],
      "text/plain": [
       "      Company Name  Model Year\n",
       "180     Mitsubishi        1990\n",
       "573         Toyota        1990\n",
       "1785         Honda        1990\n",
       "1942        Toyota        1990\n",
       "2385        Suzuki        1990\n",
       "...            ...         ...\n",
       "44734   Mitsubishi        1990\n",
       "44817       Toyota        1990\n",
       "45403       Suzuki        1990\n",
       "45451       Suzuki        1990\n",
       "45504       Suzuki        1990\n",
       "\n",
       "[178 rows x 2 columns]"
      ]
     },
     "execution_count": 19,
     "metadata": {},
     "output_type": "execute_result"
    }
   ],
   "source": [
    "#finding early released car\n",
    "datas.loc[datas[\"Model Year\"] == datas[\"Model Year\"].min(),[\"Company Name\", \"Model Year\"]]"
   ]
  },
  {
   "cell_type": "code",
   "execution_count": 20,
   "id": "ee76d279",
   "metadata": {},
   "outputs": [
    {
     "data": {
      "text/html": [
       "<div>\n",
       "<style scoped>\n",
       "    .dataframe tbody tr th:only-of-type {\n",
       "        vertical-align: middle;\n",
       "    }\n",
       "\n",
       "    .dataframe tbody tr th {\n",
       "        vertical-align: top;\n",
       "    }\n",
       "\n",
       "    .dataframe thead th {\n",
       "        text-align: right;\n",
       "    }\n",
       "</style>\n",
       "<table border=\"1\" class=\"dataframe\">\n",
       "  <thead>\n",
       "    <tr style=\"text-align: right;\">\n",
       "      <th></th>\n",
       "      <th>Company Name</th>\n",
       "      <th>Model Year</th>\n",
       "    </tr>\n",
       "  </thead>\n",
       "  <tbody>\n",
       "    <tr>\n",
       "      <th>1</th>\n",
       "      <td>Toyota</td>\n",
       "      <td>2019</td>\n",
       "    </tr>\n",
       "    <tr>\n",
       "      <th>2</th>\n",
       "      <td>Suzuki</td>\n",
       "      <td>2019</td>\n",
       "    </tr>\n",
       "    <tr>\n",
       "      <th>3</th>\n",
       "      <td>Suzuki</td>\n",
       "      <td>2019</td>\n",
       "    </tr>\n",
       "    <tr>\n",
       "      <th>28</th>\n",
       "      <td>Toyota</td>\n",
       "      <td>2019</td>\n",
       "    </tr>\n",
       "    <tr>\n",
       "      <th>45</th>\n",
       "      <td>Toyota</td>\n",
       "      <td>2019</td>\n",
       "    </tr>\n",
       "    <tr>\n",
       "      <th>...</th>\n",
       "      <td>...</td>\n",
       "      <td>...</td>\n",
       "    </tr>\n",
       "    <tr>\n",
       "      <th>45960</th>\n",
       "      <td>Toyota</td>\n",
       "      <td>2019</td>\n",
       "    </tr>\n",
       "    <tr>\n",
       "      <th>45980</th>\n",
       "      <td>Suzuki</td>\n",
       "      <td>2019</td>\n",
       "    </tr>\n",
       "    <tr>\n",
       "      <th>45985</th>\n",
       "      <td>Suzuki</td>\n",
       "      <td>2019</td>\n",
       "    </tr>\n",
       "    <tr>\n",
       "      <th>46009</th>\n",
       "      <td>Suzuki</td>\n",
       "      <td>2019</td>\n",
       "    </tr>\n",
       "    <tr>\n",
       "      <th>46010</th>\n",
       "      <td>Suzuki</td>\n",
       "      <td>2019</td>\n",
       "    </tr>\n",
       "  </tbody>\n",
       "</table>\n",
       "<p>2739 rows × 2 columns</p>\n",
       "</div>"
      ],
      "text/plain": [
       "      Company Name  Model Year\n",
       "1           Toyota        2019\n",
       "2           Suzuki        2019\n",
       "3           Suzuki        2019\n",
       "28          Toyota        2019\n",
       "45          Toyota        2019\n",
       "...            ...         ...\n",
       "45960       Toyota        2019\n",
       "45980       Suzuki        2019\n",
       "45985       Suzuki        2019\n",
       "46009       Suzuki        2019\n",
       "46010       Suzuki        2019\n",
       "\n",
       "[2739 rows x 2 columns]"
      ]
     },
     "execution_count": 20,
     "metadata": {},
     "output_type": "execute_result"
    }
   ],
   "source": [
    "#finding newly released car\n",
    "datas.loc[datas[\"Model Year\"] == datas[\"Model Year\"].max(),[\"Company Name\", \"Model Year\"]]"
   ]
  },
  {
   "cell_type": "code",
   "execution_count": 21,
   "id": "7ae9c99c",
   "metadata": {},
   "outputs": [
    {
     "data": {
      "text/plain": [
       "array(['Silver', 'White', 'Black', 'Beige', 'Grey', 'Brown', 'Pink',\n",
       "       'Assembly', 'Maroon', 'Burgundy', 'Gold', 'Blue', 'Red', 'Indigo',\n",
       "       'Unlisted', 'Green', 'Turquoise', 'Orange', 'Bronze', 'Purple',\n",
       "       'Yellow', 'Navy', 'Magenta', 'Wine'], dtype=object)"
      ]
     },
     "execution_count": 21,
     "metadata": {},
     "output_type": "execute_result"
    }
   ],
   "source": [
    "datas[\"Color\"].unique()"
   ]
  },
  {
   "cell_type": "code",
   "execution_count": 22,
   "id": "ea2947ac",
   "metadata": {},
   "outputs": [],
   "source": [
    "cg = datas.groupby(\"Color\")"
   ]
  },
  {
   "cell_type": "code",
   "execution_count": 23,
   "id": "160f0a00",
   "metadata": {},
   "outputs": [
    {
     "data": {
      "text/html": [
       "<div>\n",
       "<style scoped>\n",
       "    .dataframe tbody tr th:only-of-type {\n",
       "        vertical-align: middle;\n",
       "    }\n",
       "\n",
       "    .dataframe tbody tr th {\n",
       "        vertical-align: top;\n",
       "    }\n",
       "\n",
       "    .dataframe thead th {\n",
       "        text-align: right;\n",
       "    }\n",
       "</style>\n",
       "<table border=\"1\" class=\"dataframe\">\n",
       "  <thead>\n",
       "    <tr style=\"text-align: right;\">\n",
       "      <th></th>\n",
       "      <th>Company Name</th>\n",
       "      <th>Model Name</th>\n",
       "      <th>Price</th>\n",
       "      <th>Model Year</th>\n",
       "      <th>Location</th>\n",
       "      <th>Mileage</th>\n",
       "      <th>Engine Type</th>\n",
       "      <th>Engine Capacity</th>\n",
       "      <th>Color</th>\n",
       "      <th>Assembly</th>\n",
       "      <th>Body Type</th>\n",
       "      <th>Transmission Type</th>\n",
       "      <th>Registration Status</th>\n",
       "    </tr>\n",
       "  </thead>\n",
       "  <tbody>\n",
       "    <tr>\n",
       "      <th>52</th>\n",
       "      <td>Honda</td>\n",
       "      <td>Civic</td>\n",
       "      <td>1140000</td>\n",
       "      <td>2004</td>\n",
       "      <td>Punjab</td>\n",
       "      <td>149000</td>\n",
       "      <td>Petrol</td>\n",
       "      <td>1500</td>\n",
       "      <td>Blue</td>\n",
       "      <td>Local</td>\n",
       "      <td>Sedan</td>\n",
       "      <td>Manual</td>\n",
       "      <td>Registered</td>\n",
       "    </tr>\n",
       "    <tr>\n",
       "      <th>70</th>\n",
       "      <td>Toyota</td>\n",
       "      <td>Passo</td>\n",
       "      <td>1650000</td>\n",
       "      <td>2014</td>\n",
       "      <td>Sindh</td>\n",
       "      <td>80000</td>\n",
       "      <td>Petrol</td>\n",
       "      <td>1000</td>\n",
       "      <td>Blue</td>\n",
       "      <td>Imported</td>\n",
       "      <td>Hatchback</td>\n",
       "      <td>Automatic</td>\n",
       "      <td>Registered</td>\n",
       "    </tr>\n",
       "    <tr>\n",
       "      <th>86</th>\n",
       "      <td>Honda</td>\n",
       "      <td>City</td>\n",
       "      <td>2725000</td>\n",
       "      <td>2018</td>\n",
       "      <td>Islamabad</td>\n",
       "      <td>11012</td>\n",
       "      <td>Petrol</td>\n",
       "      <td>1500</td>\n",
       "      <td>Blue</td>\n",
       "      <td>Local</td>\n",
       "      <td>Sedan</td>\n",
       "      <td>Automatic</td>\n",
       "      <td>Registered</td>\n",
       "    </tr>\n",
       "    <tr>\n",
       "      <th>123</th>\n",
       "      <td>Suzuki</td>\n",
       "      <td>Mehran</td>\n",
       "      <td>550000</td>\n",
       "      <td>2009</td>\n",
       "      <td>KPK</td>\n",
       "      <td>68000</td>\n",
       "      <td>Petrol</td>\n",
       "      <td>800</td>\n",
       "      <td>Blue</td>\n",
       "      <td>Local</td>\n",
       "      <td>Hatchback</td>\n",
       "      <td>Manual</td>\n",
       "      <td>Registered</td>\n",
       "    </tr>\n",
       "    <tr>\n",
       "      <th>167</th>\n",
       "      <td>Suzuki</td>\n",
       "      <td>Alto</td>\n",
       "      <td>650000</td>\n",
       "      <td>2009</td>\n",
       "      <td>Punjab</td>\n",
       "      <td>152000</td>\n",
       "      <td>Petrol</td>\n",
       "      <td>1000</td>\n",
       "      <td>Blue</td>\n",
       "      <td>Local</td>\n",
       "      <td>Hatchback</td>\n",
       "      <td>Manual</td>\n",
       "      <td>Registered</td>\n",
       "    </tr>\n",
       "    <tr>\n",
       "      <th>...</th>\n",
       "      <td>...</td>\n",
       "      <td>...</td>\n",
       "      <td>...</td>\n",
       "      <td>...</td>\n",
       "      <td>...</td>\n",
       "      <td>...</td>\n",
       "      <td>...</td>\n",
       "      <td>...</td>\n",
       "      <td>...</td>\n",
       "      <td>...</td>\n",
       "      <td>...</td>\n",
       "      <td>...</td>\n",
       "      <td>...</td>\n",
       "    </tr>\n",
       "    <tr>\n",
       "      <th>45906</th>\n",
       "      <td>Suzuki</td>\n",
       "      <td>Cultus</td>\n",
       "      <td>650000</td>\n",
       "      <td>2008</td>\n",
       "      <td>KPK</td>\n",
       "      <td>123455</td>\n",
       "      <td>Petrol</td>\n",
       "      <td>1000</td>\n",
       "      <td>Blue</td>\n",
       "      <td>Local</td>\n",
       "      <td>Hatchback</td>\n",
       "      <td>Manual</td>\n",
       "      <td>Registered</td>\n",
       "    </tr>\n",
       "    <tr>\n",
       "      <th>45908</th>\n",
       "      <td>Toyota</td>\n",
       "      <td>Corolla</td>\n",
       "      <td>1080000</td>\n",
       "      <td>2006</td>\n",
       "      <td>KPK</td>\n",
       "      <td>123455</td>\n",
       "      <td>Petrol</td>\n",
       "      <td>1300</td>\n",
       "      <td>Blue</td>\n",
       "      <td>Local</td>\n",
       "      <td>Sedan</td>\n",
       "      <td>Manual</td>\n",
       "      <td>Registered</td>\n",
       "    </tr>\n",
       "    <tr>\n",
       "      <th>45942</th>\n",
       "      <td>Toyota</td>\n",
       "      <td>Premio</td>\n",
       "      <td>1950000</td>\n",
       "      <td>2007</td>\n",
       "      <td>Sindh</td>\n",
       "      <td>100000</td>\n",
       "      <td>Petrol</td>\n",
       "      <td>1800</td>\n",
       "      <td>Blue</td>\n",
       "      <td>Imported</td>\n",
       "      <td>Sedan</td>\n",
       "      <td>Automatic</td>\n",
       "      <td>Un-Registered</td>\n",
       "    </tr>\n",
       "    <tr>\n",
       "      <th>45999</th>\n",
       "      <td>Toyota</td>\n",
       "      <td>Corolla</td>\n",
       "      <td>1950000</td>\n",
       "      <td>2012</td>\n",
       "      <td>Punjab</td>\n",
       "      <td>89000</td>\n",
       "      <td>Petrol</td>\n",
       "      <td>1600</td>\n",
       "      <td>Blue</td>\n",
       "      <td>Local</td>\n",
       "      <td>Sedan</td>\n",
       "      <td>Automatic</td>\n",
       "      <td>Registered</td>\n",
       "    </tr>\n",
       "    <tr>\n",
       "      <th>46018</th>\n",
       "      <td>Toyota</td>\n",
       "      <td>Aqua</td>\n",
       "      <td>2450000</td>\n",
       "      <td>2015</td>\n",
       "      <td>Punjab</td>\n",
       "      <td>52000</td>\n",
       "      <td>Petrol</td>\n",
       "      <td>1500</td>\n",
       "      <td>Blue</td>\n",
       "      <td>Imported</td>\n",
       "      <td>Hatchback</td>\n",
       "      <td>Automatic</td>\n",
       "      <td>Un-Registered</td>\n",
       "    </tr>\n",
       "  </tbody>\n",
       "</table>\n",
       "<p>2127 rows × 13 columns</p>\n",
       "</div>"
      ],
      "text/plain": [
       "      Company Name Model Name    Price  Model Year   Location  Mileage  \\\n",
       "52           Honda      Civic  1140000        2004     Punjab   149000   \n",
       "70          Toyota      Passo  1650000        2014      Sindh    80000   \n",
       "86           Honda       City  2725000        2018  Islamabad    11012   \n",
       "123         Suzuki     Mehran   550000        2009        KPK    68000   \n",
       "167         Suzuki       Alto   650000        2009     Punjab   152000   \n",
       "...            ...        ...      ...         ...        ...      ...   \n",
       "45906       Suzuki     Cultus   650000        2008        KPK   123455   \n",
       "45908       Toyota    Corolla  1080000        2006        KPK   123455   \n",
       "45942       Toyota     Premio  1950000        2007      Sindh   100000   \n",
       "45999       Toyota    Corolla  1950000        2012     Punjab    89000   \n",
       "46018       Toyota       Aqua  2450000        2015     Punjab    52000   \n",
       "\n",
       "      Engine Type  Engine Capacity Color  Assembly  Body Type  \\\n",
       "52         Petrol             1500  Blue     Local      Sedan   \n",
       "70         Petrol             1000  Blue  Imported  Hatchback   \n",
       "86         Petrol             1500  Blue     Local      Sedan   \n",
       "123        Petrol              800  Blue     Local  Hatchback   \n",
       "167        Petrol             1000  Blue     Local  Hatchback   \n",
       "...           ...              ...   ...       ...        ...   \n",
       "45906      Petrol             1000  Blue     Local  Hatchback   \n",
       "45908      Petrol             1300  Blue     Local      Sedan   \n",
       "45942      Petrol             1800  Blue  Imported      Sedan   \n",
       "45999      Petrol             1600  Blue     Local      Sedan   \n",
       "46018      Petrol             1500  Blue  Imported  Hatchback   \n",
       "\n",
       "      Transmission Type Registration Status  \n",
       "52               Manual          Registered  \n",
       "70            Automatic          Registered  \n",
       "86            Automatic          Registered  \n",
       "123              Manual          Registered  \n",
       "167              Manual          Registered  \n",
       "...                 ...                 ...  \n",
       "45906            Manual          Registered  \n",
       "45908            Manual          Registered  \n",
       "45942         Automatic       Un-Registered  \n",
       "45999         Automatic          Registered  \n",
       "46018         Automatic       Un-Registered  \n",
       "\n",
       "[2127 rows x 13 columns]"
      ]
     },
     "execution_count": 23,
     "metadata": {},
     "output_type": "execute_result"
    }
   ],
   "source": [
    "#Finding the cars with Blue color\n",
    "cg.get_group(\"Blue\")"
   ]
  },
  {
   "cell_type": "code",
   "execution_count": 24,
   "id": "91cab0f7",
   "metadata": {},
   "outputs": [],
   "source": [
    "rs = datas.groupby(\"Registration Status\")"
   ]
  },
  {
   "cell_type": "code",
   "execution_count": 25,
   "id": "8e57287c",
   "metadata": {},
   "outputs": [
    {
     "data": {
      "text/plain": [
       "42693"
      ]
     },
     "execution_count": 25,
     "metadata": {},
     "output_type": "execute_result"
    }
   ],
   "source": [
    "len(rs.get_group(\"Registered\"))  #There are 42693 registered cars in the given dataset."
   ]
  },
  {
   "cell_type": "code",
   "execution_count": 26,
   "id": "b722ef84",
   "metadata": {},
   "outputs": [
    {
     "data": {
      "text/plain": [
       "3329"
      ]
     },
     "execution_count": 26,
     "metadata": {},
     "output_type": "execute_result"
    }
   ],
   "source": [
    "len(rs.get_group(\"Un-Registered\"))   #There are 3329 un-registered cars in the given dataset."
   ]
  },
  {
   "cell_type": "code",
   "execution_count": 27,
   "id": "4c0a3bfd",
   "metadata": {},
   "outputs": [
    {
     "name": "stderr",
     "output_type": "stream",
     "text": [
      "C:\\Users\\user\\Downloads\\New folder\\envs\\Datascience\\Lib\\site-packages\\seaborn\\_oldcore.py:1498: FutureWarning: is_categorical_dtype is deprecated and will be removed in a future version. Use isinstance(dtype, CategoricalDtype) instead\n",
      "  if pd.api.types.is_categorical_dtype(vector):\n",
      "C:\\Users\\user\\Downloads\\New folder\\envs\\Datascience\\Lib\\site-packages\\seaborn\\_oldcore.py:1498: FutureWarning: is_categorical_dtype is deprecated and will be removed in a future version. Use isinstance(dtype, CategoricalDtype) instead\n",
      "  if pd.api.types.is_categorical_dtype(vector):\n",
      "C:\\Users\\user\\Downloads\\New folder\\envs\\Datascience\\Lib\\site-packages\\seaborn\\_oldcore.py:1498: FutureWarning: is_categorical_dtype is deprecated and will be removed in a future version. Use isinstance(dtype, CategoricalDtype) instead\n",
      "  if pd.api.types.is_categorical_dtype(vector):\n"
     ]
    },
    {
     "data": {
      "image/png": "[encoded data removed]",
      "text/plain": [
       "<Figure size 640x480 with 1 Axes>"
      ]
     },
     "metadata": {},
     "output_type": "display_data"
    }
   ],
   "source": [
    "sns.barplot(datas, x = \"Engine Type\", y = \"Mileage\")\n",
    "plt.title(\"Mileage and Engine Type\")\n",
    "plt.show()"
   ]
  },
  {
   "cell_type": "code",
   "execution_count": 28,
   "id": "60e2d10c",
   "metadata": {},
   "outputs": [],
   "source": [
    "assm = datas.groupby(\"Assembly\")"
   ]
  },
  {
   "cell_type": "code",
   "execution_count": 30,
   "id": "cafa7041",
   "metadata": {},
   "outputs": [
    {
     "data": {
      "text/plain": [
       "31210"
      ]
     },
     "execution_count": 30,
     "metadata": {},
     "output_type": "execute_result"
    }
   ],
   "source": [
    "len(assm.get_group(\"Local\"))   #There are 31210 local cars in the given dataset"
   ]
  },
  {
   "cell_type": "code",
   "execution_count": 31,
   "id": "9dacb8de",
   "metadata": {},
   "outputs": [
    {
     "data": {
      "text/plain": [
       "14812"
      ]
     },
     "execution_count": 31,
     "metadata": {},
     "output_type": "execute_result"
    }
   ],
   "source": [
    "len(assm.get_group(\"Imported\"))   #There are 14812 imported cars in the given dataset"
   ]
  },
  {
   "cell_type": "code",
   "execution_count": null,
   "id": "21dc5c0f",
   "metadata": {},
   "outputs": [],
   "source": []
  }
 ],
 "metadata": {
  "kernelspec": {
   "display_name": "Python 3 (ipykernel)",
   "language": "python",
   "name": "python3"
  },
  "language_info": {
   "codemirror_mode": {
    "name": "ipython",
    "version": 3
   },
   "file_extension": ".py",
   "mimetype": "text/x-python",
   "name": "python",
   "nbconvert_exporter": "python",
   "pygments_lexer": "ipython3",
   "version": "3.11.4"
  }
 },
 "nbformat": 4,
 "nbformat_minor": 5
}
